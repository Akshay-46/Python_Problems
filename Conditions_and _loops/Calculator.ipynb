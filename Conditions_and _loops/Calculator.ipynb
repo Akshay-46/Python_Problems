{
 "cells": [
  {
   "cell_type": "markdown",
   "metadata": {},
   "source": [
    "Write a program that works as a simple calculator. It reads an integer for choice.\n",
    "1. If the choice is 1, 2 integers are taken for input and their sum is printed.\n",
    "2. If the choice is 2, 2 integers are taken for input and their difference is printed.\n",
    "3. If  the choice is 3, 2 integers are taken for input and their product is printed.\n",
    "4. If  the choice is 4, 2 integers are taken for input and their quotient is printed.\n",
    "5. If  the choice is 5, 2 integers are taken for input and their remainder is printed.\n",
    "6. If the choice is 6, the program exits, \n",
    "For any other choice, print \"Invalid Operation\" and ask for choice again."
   ]
  },
  {
   "cell_type": "code",
   "execution_count": null,
   "metadata": {},
   "outputs": [],
   "source": [
    "n=int(input())\n",
    "while n!=6:\n",
    "    if n>=1 and n<=5:\n",
    "        a=int(input())\n",
    "        b=int(input())\n",
    "    if n==1:\n",
    "        print(a + b)\n",
    "    if n==2:\n",
    "        print(a - b)\n",
    "    if n==3:\n",
    "        print(a * b)\n",
    "    if n==4:\n",
    "        print(a / b)\n",
    "    if n==5:\n",
    "        print(a % b)\n",
    "    elif n < 1 or n > 6:\n",
    "        print(\"Invalid Operation\")\n",
    "    n=int(input())"
   ]
  },
  {
   "cell_type": "code",
   "execution_count": null,
   "metadata": {},
   "outputs": [],
   "source": []
  },
  {
   "cell_type": "code",
   "execution_count": null,
   "metadata": {},
   "outputs": [],
   "source": []
  }
 ],
 "metadata": {
  "kernelspec": {
   "display_name": "Python 3",
   "language": "python",
   "name": "python3"
  },
  "language_info": {
   "codemirror_mode": {
    "name": "ipython",
    "version": 3
   },
   "file_extension": ".py",
   "mimetype": "text/x-python",
   "name": "python",
   "nbconvert_exporter": "python",
   "pygments_lexer": "ipython3",
   "version": "3.7.3"
  }
 },
 "nbformat": 4,
 "nbformat_minor": 2
}
