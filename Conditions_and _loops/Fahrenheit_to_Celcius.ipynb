{
 "cells": [
  {
   "cell_type": "code",
   "execution_count": 12,
   "metadata": {},
   "outputs": [
    {
     "name": "stdout",
     "output_type": "stream",
     "text": [
      "0\n",
      "20\n",
      "100\n",
      "0 \t -17\n",
      "20 \t -6\n",
      "40 \t 4\n",
      "60 \t 15\n",
      "80 \t 26\n",
      "100 \t 37\n"
     ]
    }
   ],
   "source": [
    "start=int(input())\n",
    "step=int(input())\n",
    "end=int(input())\n",
    "\n",
    "while start <= end:\n",
    "    cel=int((start-32) * (5 / 9))\n",
    "    print(start,\"\\t\",cel)\n",
    "    start=start+step"
   ]
  },
  {
   "cell_type": "code",
   "execution_count": 10,
   "metadata": {},
   "outputs": [
    {
     "name": "stdout",
     "output_type": "stream",
     "text": [
      "0\n",
      "100\n",
      "20\n",
      "0 \t -17\n",
      "20 \t -6\n",
      "40 \t 4\n",
      "60 \t 15\n",
      "80 \t 26\n",
      "100 \t 37\n"
     ]
    }
   ],
   "source": []
  },
  {
   "cell_type": "code",
   "execution_count": null,
   "metadata": {},
   "outputs": [],
   "source": []
  }
 ],
 "metadata": {
  "kernelspec": {
   "display_name": "Python 3",
   "language": "python",
   "name": "python3"
  },
  "language_info": {
   "codemirror_mode": {
    "name": "ipython",
    "version": 3
   },
   "file_extension": ".py",
   "mimetype": "text/x-python",
   "name": "python",
   "nbconvert_exporter": "python",
   "pygments_lexer": "ipython3",
   "version": "3.7.3"
  }
 },
 "nbformat": 4,
 "nbformat_minor": 2
}
